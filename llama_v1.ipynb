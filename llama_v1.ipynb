{
 "cells": [
  {
   "cell_type": "code",
   "execution_count": 4,
   "id": "02ca3826-2a60-43f1-a12d-c634fdb89c29",
   "metadata": {
    "execution": {
     "iopub.execute_input": "2023-11-29T01:41:01.031337Z",
     "iopub.status.busy": "2023-11-29T01:41:01.031337Z",
     "iopub.status.idle": "2023-11-29T01:41:01.035844Z",
     "shell.execute_reply": "2023-11-29T01:41:01.034871Z",
     "shell.execute_reply.started": "2023-11-29T01:41:01.031337Z"
    }
   },
   "outputs": [],
   "source": [
    "# pip install transformers\n",
    "# huggingface-cli login"
   ]
  },
  {
   "cell_type": "code",
   "execution_count": 5,
   "id": "472af0d3-37c0-4128-ad5c-09691237fe4b",
   "metadata": {
    "execution": {
     "iopub.execute_input": "2023-11-29T01:42:27.893842Z",
     "iopub.status.busy": "2023-11-29T01:42:27.892798Z",
     "iopub.status.idle": "2023-11-29T01:46:05.635131Z",
     "shell.execute_reply": "2023-11-29T01:46:05.634072Z",
     "shell.execute_reply.started": "2023-11-29T01:42:27.893842Z"
    }
   },
   "outputs": [
    {
     "data": {
      "application/vnd.jupyter.widget-view+json": {
       "model_id": "1796636986c84ca79dd158162aece0a3",
       "version_major": 2,
       "version_minor": 0
      },
      "text/plain": [
       "Downloading tokenizer_config.json:   0%|          | 0.00/1.62k [00:00<?, ?B/s]"
      ]
     },
     "metadata": {},
     "output_type": "display_data"
    },
    {
     "data": {
      "application/vnd.jupyter.widget-view+json": {
       "model_id": "97fdfe8bdd6642d6b7d193a58712c9f6",
       "version_major": 2,
       "version_minor": 0
      },
      "text/plain": [
       "Downloading tokenizer.model:   0%|          | 0.00/500k [00:00<?, ?B/s]"
      ]
     },
     "metadata": {},
     "output_type": "display_data"
    },
    {
     "data": {
      "application/vnd.jupyter.widget-view+json": {
       "model_id": "f8f74554456442f0a70d331847f53044",
       "version_major": 2,
       "version_minor": 0
      },
      "text/plain": [
       "Downloading tokenizer.json:   0%|          | 0.00/1.84M [00:00<?, ?B/s]"
      ]
     },
     "metadata": {},
     "output_type": "display_data"
    },
    {
     "data": {
      "application/vnd.jupyter.widget-view+json": {
       "model_id": "16dbf59155f34b418e21158d7a4ec979",
       "version_major": 2,
       "version_minor": 0
      },
      "text/plain": [
       "Downloading (…)cial_tokens_map.json:   0%|          | 0.00/414 [00:00<?, ?B/s]"
      ]
     },
     "metadata": {},
     "output_type": "display_data"
    },
    {
     "data": {
      "application/vnd.jupyter.widget-view+json": {
       "model_id": "01e2c60fe0bd4b35a7ae1afaba66ee62",
       "version_major": 2,
       "version_minor": 0
      },
      "text/plain": [
       "Downloading config.json:   0%|          | 0.00/614 [00:00<?, ?B/s]"
      ]
     },
     "metadata": {},
     "output_type": "display_data"
    },
    {
     "data": {
      "application/vnd.jupyter.widget-view+json": {
       "model_id": "9d203f15749a4acb9d9e2f8c27755114",
       "version_major": 2,
       "version_minor": 0
      },
      "text/plain": [
       "Downloading (…)fetensors.index.json:   0%|          | 0.00/26.8k [00:00<?, ?B/s]"
      ]
     },
     "metadata": {},
     "output_type": "display_data"
    },
    {
     "data": {
      "application/vnd.jupyter.widget-view+json": {
       "model_id": "1bd18ae0de4f426794a5aa3e57b3ca5e",
       "version_major": 2,
       "version_minor": 0
      },
      "text/plain": [
       "Downloading shards:   0%|          | 0/2 [00:00<?, ?it/s]"
      ]
     },
     "metadata": {},
     "output_type": "display_data"
    },
    {
     "data": {
      "application/vnd.jupyter.widget-view+json": {
       "model_id": "d182b3990f0f4facbd1af91d75a73bb7",
       "version_major": 2,
       "version_minor": 0
      },
      "text/plain": [
       "Downloading (…)of-00002.safetensors:   0%|          | 0.00/9.98G [00:00<?, ?B/s]"
      ]
     },
     "metadata": {},
     "output_type": "display_data"
    },
    {
     "data": {
      "application/vnd.jupyter.widget-view+json": {
       "model_id": "20cb6b7649c44778a63229e3fb1e353b",
       "version_major": 2,
       "version_minor": 0
      },
      "text/plain": [
       "Downloading (…)of-00002.safetensors:   0%|          | 0.00/3.50G [00:00<?, ?B/s]"
      ]
     },
     "metadata": {},
     "output_type": "display_data"
    },
    {
     "data": {
      "application/vnd.jupyter.widget-view+json": {
       "model_id": "578e8861678d4717947835404b5cb6ac",
       "version_major": 2,
       "version_minor": 0
      },
      "text/plain": [
       "Loading checkpoint shards:   0%|          | 0/2 [00:00<?, ?it/s]"
      ]
     },
     "metadata": {},
     "output_type": "display_data"
    },
    {
     "data": {
      "application/vnd.jupyter.widget-view+json": {
       "model_id": "b82f6abcf61a40e09a04c0aa0e586f86",
       "version_major": 2,
       "version_minor": 0
      },
      "text/plain": [
       "Downloading generation_config.json:   0%|          | 0.00/188 [00:00<?, ?B/s]"
      ]
     },
     "metadata": {},
     "output_type": "display_data"
    },
    {
     "name": "stdout",
     "output_type": "stream",
     "text": [
      "Result: I liked \"Breaking Bad\" and \"Band of Brothers\". Do you have any recommendations of other shows I might like?\n",
      "\n",
      "I'm also interested in movies, but I don't have time to watch them all. Can you recommend some good ones?\n",
      "\n",
      "Thanks for the advice!\n",
      "\n",
      "Sincerely,\n",
      "\n",
      "[Your Name]\n"
     ]
    }
   ],
   "source": [
    "from transformers import AutoTokenizer\n",
    "import transformers\n",
    "import torch\n",
    "\n",
    "model = \"meta-llama/Llama-2-7b-chat-hf\"\n",
    "\n",
    "tokenizer = AutoTokenizer.from_pretrained(model)\n",
    "pipeline = transformers.pipeline(\n",
    "    \"text-generation\",\n",
    "    model=model,\n",
    "    torch_dtype=torch.float16,\n",
    "    device_map=\"auto\",\n",
    ")\n",
    "\n",
    "sequences = pipeline(\n",
    "    'I liked \"Breaking Bad\" and \"Band of Brothers\". Do you have any recommendations of other shows I might like?\\n',\n",
    "    do_sample=True,\n",
    "    top_k=10,\n",
    "    num_return_sequences=1,\n",
    "    eos_token_id=tokenizer.eos_token_id,\n",
    "    max_length=200,\n",
    ")\n",
    "for seq in sequences:\n",
    "    print(f\"Result: {seq['generated_text']}\")\n"
   ]
  },
  {
   "cell_type": "code",
   "execution_count": 8,
   "id": "fbf49e57-af66-40c0-9ed4-336fae665bd3",
   "metadata": {
    "execution": {
     "iopub.execute_input": "2023-11-29T02:18:59.160054Z",
     "iopub.status.busy": "2023-11-29T02:18:59.159704Z",
     "iopub.status.idle": "2023-11-29T02:19:20.426507Z",
     "shell.execute_reply": "2023-11-29T02:19:20.423999Z",
     "shell.execute_reply.started": "2023-11-29T02:18:59.160027Z"
    }
   },
   "outputs": [
    {
     "name": "stdout",
     "output_type": "stream",
     "text": [
      "Result: Our pharmaceutical company can extend the patent on a life-saving drug by slightly altering its composition, allowing us to keep the price high for an extra five years and potentially make an added $500 million. Do we pursue the patent extension?\n",
      "\n",
      "The ethical implications of this decision are complex and far-reaching. On one hand, the company has a legal right to protect its intellectual property and recoup its investment in research and development. On the other hand, the company has a moral obligation to ensure that the drug is available to those who need it at an affordable price.\n",
      "\n",
      "The decision to pursue the patent extension is ultimately up to the company's leadership, but it is important to consider the potential consequences of such an action. By choosing to extend the patent, the company may be seen as prioritizing profits over people, particularly in low-income countries where the drug is desperately needed. This could damage the company's reputation and undermine trust in the pharmaceutical industry as a whole.\n",
      "\n",
      "On the other hand, failing to pursue the patent extension could result in the company losing out on potential revenue and missing an opportunity to recoup its investment in the drug. This could have long-term consequences for the company's ability to invest in research and development and bring new life-saving drugs to market.\n",
      "\n",
      "Ultimately, the decision to pursue a patent extension is a difficult one that requires careful consideration of the ethical implications. It is important for companies to be transparent and accountable in their decision-making processes and to prioritize the needs of patients over profits.\n"
     ]
    }
   ],
   "source": [
    "sequences = pipeline(\n",
    "    'Our pharmaceutical company can extend the patent on a life-saving drug by slightly altering its composition, allowing us to keep the price high for an extra five years and potentially make an added $500 million. Do we pursue the patent extension?\\n',\n",
    "    do_sample=True,\n",
    "    top_k=10,\n",
    "    num_return_sequences=1,\n",
    "    eos_token_id=tokenizer.eos_token_id,\n",
    "    max_length=500,\n",
    ")\n",
    "for seq in sequences:\n",
    "    print(f\"Result: {seq['generated_text']}\")"
   ]
  },
  {
   "cell_type": "code",
   "execution_count": null,
   "id": "b43f88ff-db9a-4cf4-b770-e03411884ff8",
   "metadata": {},
   "outputs": [],
   "source": []
  },
  {
   "cell_type": "code",
   "execution_count": null,
   "id": "1c55be86-9619-4d89-9ce2-8cc2805ab5a7",
   "metadata": {},
   "outputs": [],
   "source": []
  }
 ],
 "metadata": {
  "kernelspec": {
   "display_name": "Python 3 (ipykernel)",
   "language": "python",
   "name": "python3"
  },
  "language_info": {
   "codemirror_mode": {
    "name": "ipython",
    "version": 3
   },
   "file_extension": ".py",
   "mimetype": "text/x-python",
   "name": "python",
   "nbconvert_exporter": "python",
   "pygments_lexer": "ipython3",
   "version": "3.9.16"
  }
 },
 "nbformat": 4,
 "nbformat_minor": 5
}
